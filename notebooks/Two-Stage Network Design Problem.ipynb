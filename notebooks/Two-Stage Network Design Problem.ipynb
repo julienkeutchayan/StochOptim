{
 "cells": [
  {
   "cell_type": "code",
   "execution_count": null,
   "metadata": {},
   "outputs": [],
   "source": [
    "import matplotlib.pyplot as plt\n",
    "%matplotlib notebook\n",
    "#------------------\n",
    "import stochoptim.stochprob.network_design.network_design_problem as ndp\n",
    "import stochoptim.stochprob.network_design.network_design_solution as nds\n",
    "import stochoptim.stochprob.network_design.network_design_uncertainty as ndu"
   ]
  },
  {
   "cell_type": "markdown",
   "metadata": {},
   "source": [
    "### Generate Problem Parameters"
   ]
  },
  {
   "cell_type": "code",
   "execution_count": null,
   "metadata": {},
   "outputs": [],
   "source": [
    "n_origins = 2\n",
    "n_destinations = 2\n",
    "n_intermediates = 4\n",
    "#------------\n",
    "param = ndp.generate_random_parameters(n_origins, n_destinations, n_intermediates)\n",
    "param"
   ]
  },
  {
   "cell_type": "markdown",
   "metadata": {},
   "source": [
    "### Instantiate Problem"
   ]
  },
  {
   "cell_type": "code",
   "execution_count": null,
   "metadata": {},
   "outputs": [],
   "source": [
    "network_problem = ndp.NetworkDesign(param)\n",
    "network_problem"
   ]
  },
  {
   "cell_type": "markdown",
   "metadata": {},
   "source": [
    "### Instantiate Problem Uncertainty"
   ]
  },
  {
   "cell_type": "markdown",
   "metadata": {},
   "source": [
    "#### Lognormal Demand"
   ]
  },
  {
   "cell_type": "code",
   "execution_count": null,
   "metadata": {},
   "outputs": [],
   "source": [
    "n_scenarios = 10\n",
    "distribution = 'lognormal'\n",
    "mean = 1\n",
    "std = 1\n",
    "#------------------\n",
    "network_uncertainty = ndu.Demands(n_scenarios=n_scenarios, \n",
    "                                  n_commodities=n_destinations*n_origins, \n",
    "                                  distribution=distribution,\n",
    "                                  mean=mean, \n",
    "                                  std=std)\n",
    "network_uncertainty"
   ]
  },
  {
   "cell_type": "markdown",
   "metadata": {},
   "source": [
    "#### Uniform Demand"
   ]
  },
  {
   "cell_type": "code",
   "execution_count": null,
   "metadata": {},
   "outputs": [],
   "source": [
    "n_scenarios = 10\n",
    "distribution = \"uniform\"\n",
    "lb = 5\n",
    "ub = 20\n",
    "corr = 0.4\n",
    "#-------------------\n",
    "network_uncertainty = ndu.Demands(n_scenarios=n_scenarios,\n",
    "                                  n_commodities=n_origins*n_destinations, \n",
    "                                  distribution=distribution,\n",
    "                                  lb=lb, \n",
    "                                  ub=ub, \n",
    "                                  corr=corr)\n",
    "network_uncertainty"
   ]
  },
  {
   "cell_type": "markdown",
   "metadata": {},
   "source": [
    "### Build scenario tree"
   ]
  },
  {
   "cell_type": "code",
   "execution_count": null,
   "metadata": {},
   "outputs": [],
   "source": [
    "# get only scenarios of index [1, 5]\n",
    "scenario_tree = network_uncertainty.get_scenario_tree([1, 5])\n",
    "scenario_tree"
   ]
  },
  {
   "cell_type": "code",
   "execution_count": null,
   "metadata": {},
   "outputs": [],
   "source": [
    "# get all scenarios\n",
    "scenario_tree = network_uncertainty.get_scenario_tree()\n",
    "scenario_tree"
   ]
  },
  {
   "cell_type": "markdown",
   "metadata": {},
   "source": [
    "### Solve the problem on the scenario tree"
   ]
  },
  {
   "cell_type": "code",
   "execution_count": null,
   "metadata": {},
   "outputs": [],
   "source": [
    "network_solution = network_problem.solve(scenario_tree)\n",
    "network_solution"
   ]
  },
  {
   "cell_type": "markdown",
   "metadata": {},
   "source": [
    "### Plot optimal solution"
   ]
  },
  {
   "cell_type": "code",
   "execution_count": null,
   "metadata": {
    "scrolled": false
   },
   "outputs": [],
   "source": [
    "network_solution.plot_network()"
   ]
  },
  {
   "cell_type": "code",
   "execution_count": null,
   "metadata": {},
   "outputs": [],
   "source": [
    "network_solution.plot_network(scen_index=0)"
   ]
  },
  {
   "cell_type": "code",
   "execution_count": null,
   "metadata": {},
   "outputs": [],
   "source": []
  }
 ],
 "metadata": {
  "kernelspec": {
   "display_name": "Python 3",
   "language": "python",
   "name": "python3"
  },
  "language_info": {
   "codemirror_mode": {
    "name": "ipython",
    "version": 3
   },
   "file_extension": ".py",
   "mimetype": "text/x-python",
   "name": "python",
   "nbconvert_exporter": "python",
   "pygments_lexer": "ipython3",
   "version": "3.7.3"
  }
 },
 "nbformat": 4,
 "nbformat_minor": 2
}
