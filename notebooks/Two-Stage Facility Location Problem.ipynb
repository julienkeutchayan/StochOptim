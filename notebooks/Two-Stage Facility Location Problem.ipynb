{
 "cells": [
  {
   "cell_type": "code",
   "execution_count": 1,
   "metadata": {},
   "outputs": [],
   "source": [
    "import matplotlib.pyplot as plt\n",
    "%matplotlib notebook\n",
    "import stochoptim.stochprob.facility_location.facility_location_problem as flp\n",
    "import stochoptim.stochprob.facility_location.facility_location_solution as fls\n",
    "import stochoptim.stochprob.facility_location.facility_location_uncertainty as flu"
   ]
  },
  {
   "cell_type": "markdown",
   "metadata": {},
   "source": [
    "### Generate Problem Parameters"
   ]
  },
  {
   "cell_type": "code",
   "execution_count": 2,
   "metadata": {
    "scrolled": true
   },
   "outputs": [
    {
     "data": {
      "text/plain": [
       "{'pos_client': array([[0.44436671, 0.33598253],\n",
       "        [0.45683994, 0.79734215],\n",
       "        [0.56236326, 0.94684106],\n",
       "        [0.9324454 , 0.69453343],\n",
       "        [0.73324695, 0.17028189],\n",
       "        [0.039696  , 0.84929421],\n",
       "        [0.42584829, 0.94457475],\n",
       "        [0.74264099, 0.3027371 ],\n",
       "        [0.30196082, 0.69582338],\n",
       "        [0.56488745, 0.37337666]]),\n",
       " 'pos_facility': array([[0.92582191, 0.34322007],\n",
       "        [0.82923871, 0.07467313],\n",
       "        [0.99804077, 0.51155144],\n",
       "        [0.61799803, 0.20982696],\n",
       "        [0.33316474, 0.45877957]]),\n",
       " 'opening_cost': array([43, 42, 57, 71, 52]),\n",
       " 'facility_capacity': array([40, 35, 36, 36, 32]),\n",
       " 'max_facilities': 5,\n",
       " 'min_facilities_in_zone': array([1]),\n",
       " 'facility_in_zone': array([0, 0, 0, 0, 0]),\n",
       " 'penalty': array([1000., 1000., 1000., 1000., 1000.])}"
      ]
     },
     "execution_count": 2,
     "metadata": {},
     "output_type": "execute_result"
    }
   ],
   "source": [
    "n_facility_locations = 5\n",
    "n_client_locations = 10\n",
    "n_zones = 1\n",
    "#------------\n",
    "param = flp.generate_random_parameters(n_facility_locations, n_client_locations, n_zones)\n",
    "param"
   ]
  },
  {
   "cell_type": "markdown",
   "metadata": {},
   "source": [
    "### Instantiate Problem"
   ]
  },
  {
   "cell_type": "code",
   "execution_count": 3,
   "metadata": {},
   "outputs": [
    {
     "data": {
      "text/plain": [
       "Facility Location Problem: (2 stages)\n",
       "  - decision variables: [5, 55]\n",
       "    - stage 0: \n",
       "      - x: 5 (b)\n",
       "    - stage 1: \n",
       "      - y: 50 (b)\n",
       "      - z: 5 (c)\n",
       "  - random variables: [0, 10]\n",
       "    - stage 1: \n",
       "      - h: 10\n",
       "\n",
       "Network: \n",
       "  5 facility locations\n",
       "  10 client locations\n",
       "  1 zones"
      ]
     },
     "execution_count": 3,
     "metadata": {},
     "output_type": "execute_result"
    }
   ],
   "source": [
    "facility_problem = flp.FacilityLocationProblem(param)\n",
    "facility_problem"
   ]
  },
  {
   "cell_type": "markdown",
   "metadata": {},
   "source": [
    "### Instantiate Problem Uncertainty"
   ]
  },
  {
   "cell_type": "code",
   "execution_count": 4,
   "metadata": {},
   "outputs": [
    {
     "data": {
      "text/plain": [
       "Presence uncertainty \n",
       "  - scenarios: 20 \n",
       "  - features: 10 \n",
       "    - h: 10 "
      ]
     },
     "execution_count": 4,
     "metadata": {},
     "output_type": "execute_result"
    }
   ],
   "source": [
    "n_scenarios = 20\n",
    "p = 0.8\n",
    "#------------------\n",
    "client_uncertainty = flu.ClientsPresence(n_scenarios, n_client_locations, p=p) \n",
    "client_uncertainty"
   ]
  },
  {
   "cell_type": "markdown",
   "metadata": {},
   "source": [
    "### Build scenario tree"
   ]
  },
  {
   "cell_type": "code",
   "execution_count": 5,
   "metadata": {},
   "outputs": [
    {
     "data": {
      "text/plain": [
       "Node               W=1\n",
       "  Node             W=0.5\tscenario={'h': array([1, 1, 0, 1, 1, 1, 1, 1, 1, 1])}\n",
       "  Node             W=0.5\tscenario={'h': array([1, 1, 1, 1, 0, 1, 1, 1, 1, 1])}"
      ]
     },
     "execution_count": 5,
     "metadata": {},
     "output_type": "execute_result"
    }
   ],
   "source": [
    "# get only scenarios of index [1, 5]\n",
    "scenario_tree = client_uncertainty.get_scenario_tree([1, 5])\n",
    "scenario_tree"
   ]
  },
  {
   "cell_type": "code",
   "execution_count": 6,
   "metadata": {},
   "outputs": [
    {
     "data": {
      "text/plain": [
       "Node               W=1\n",
       "  Node             W=0.05\tscenario={'h': array([1, 1, 1, 1, 0, 1, 1, 1, 1, 1])}\n",
       "  Node             W=0.05\tscenario={'h': array([1, 1, 0, 1, 1, 1, 1, 1, 1, 1])}\n",
       "  Node             W=0.05\tscenario={'h': array([1, 1, 1, 1, 1, 1, 1, 1, 1, 1])}\n",
       "  Node             W=0.05\tscenario={'h': array([1, 1, 1, 1, 1, 1, 1, 1, 1, 0])}\n",
       "  Node             W=0.05\tscenario={'h': array([1, 1, 1, 1, 0, 1, 1, 1, 1, 0])}\n",
       "  Node             W=0.05\tscenario={'h': array([1, 1, 1, 1, 0, 1, 1, 1, 1, 1])}\n",
       "  Node             W=0.05\tscenario={'h': array([0, 1, 1, 1, 0, 1, 1, 1, 1, 0])}\n",
       "  Node             W=0.05\tscenario={'h': array([1, 1, 1, 1, 1, 1, 1, 1, 1, 1])}\n",
       "  Node             W=0.05\tscenario={'h': array([0, 0, 1, 1, 1, 1, 1, 1, 1, 1])}\n",
       "  Node             W=0.05\tscenario={'h': array([1, 1, 0, 1, 1, 1, 1, 0, 1, 0])}\n",
       "  Node             W=0.05\tscenario={'h': array([1, 1, 0, 1, 1, 1, 1, 1, 1, 1])}\n",
       "  Node             W=0.05\tscenario={'h': array([1, 1, 1, 1, 1, 1, 1, 1, 0, 0])}\n",
       "  Node             W=0.05\tscenario={'h': array([1, 1, 0, 0, 1, 1, 1, 1, 1, 0])}\n",
       "  Node             W=0.05\tscenario={'h': array([1, 1, 1, 1, 0, 0, 1, 1, 1, 0])}\n",
       "  Node             W=0.05\tscenario={'h': array([1, 1, 0, 1, 1, 1, 0, 1, 0, 1])}\n",
       "  Node             W=0.05\tscenario={'h': array([1, 1, 1, 1, 1, 0, 0, 1, 1, 1])}\n",
       "  Node             W=0.05\tscenario={'h': array([1, 0, 0, 0, 1, 1, 1, 1, 1, 1])}\n",
       "  Node             W=0.05\tscenario={'h': array([1, 1, 0, 1, 1, 1, 0, 1, 1, 1])}\n",
       "  Node             W=0.05\tscenario={'h': array([1, 1, 0, 1, 1, 1, 1, 0, 1, 1])}\n",
       "  Node             W=0.05\tscenario={'h': array([1, 1, 1, 1, 1, 1, 1, 1, 1, 0])}"
      ]
     },
     "execution_count": 6,
     "metadata": {},
     "output_type": "execute_result"
    }
   ],
   "source": [
    "# get all scenarios\n",
    "scenario_tree = client_uncertainty.get_scenario_tree()\n",
    "scenario_tree"
   ]
  },
  {
   "cell_type": "markdown",
   "metadata": {},
   "source": [
    "### Solve the problem on the scenario tree"
   ]
  },
  {
   "cell_type": "code",
   "execution_count": 7,
   "metadata": {},
   "outputs": [
    {
     "name": "stdout",
     "output_type": "stream",
     "text": [
      "Number of scenario trees: 1 (bushiness: [20.0]) \n",
      "\n",
      "Initialize model... Finished. (0.113 sec).\n",
      "Initialize variables... Finished. (0.021 sec).\n",
      "Add deterministic constraints at subroot #1... Finished. (0.033 sec).\n",
      "Define objective function at subtree #1... Finished. (0.012 sec).\n",
      "\n",
      "Solve scenario tree #1... \n",
      "  Precompute variables and parameters... Finished. (0.001 sec).\n",
      "  Check parameters validity... Finished. (0.000 sec).\n",
      "  Add random constraints at subtree #1... Finished. (0.015 sec).\n",
      "  Solve problem at subtree #1... Finished. (1.918 sec).\n",
      "  Fill scenario tree... Finished. (0.015 sec).\n",
      "Finished. (1.953 sec).\n"
     ]
    },
    {
     "data": {
      "text/plain": [
       "obj=278.209, gap=0.914%, time=1.9 sec"
      ]
     },
     "execution_count": 7,
     "metadata": {},
     "output_type": "execute_result"
    }
   ],
   "source": [
    "facility_solution = facility_problem.solve(scenario_tree)\n",
    "facility_solution"
   ]
  },
  {
   "cell_type": "markdown",
   "metadata": {},
   "source": [
    "### Plot optimal solution"
   ]
  },
  {
   "cell_type": "code",
   "execution_count": 8,
   "metadata": {
    "scrolled": false
   },
   "outputs": [
    {
     "data": {
      "image/png": "[encoded data removed]",
      "text/plain": [
       "<Figure size 360x360 with 1 Axes>"
      ]
     },
     "metadata": {
      "needs_background": "light"
     },
     "output_type": "display_data"
    }
   ],
   "source": [
    "facility_solution.plot_network()"
   ]
  },
  {
   "cell_type": "code",
   "execution_count": 9,
   "metadata": {},
   "outputs": [
    {
     "data": {
      "image/png": "[encoded data removed]",
      "text/plain": [
       "<Figure size 360x360 with 1 Axes>"
      ]
     },
     "metadata": {
      "needs_background": "light"
     },
     "output_type": "display_data"
    }
   ],
   "source": [
    "facility_solution.plot_network(scen_index=14)"
   ]
  }
 ],
 "metadata": {
  "kernelspec": {
   "display_name": "Python 3",
   "language": "python",
   "name": "python3"
  },
  "language_info": {
   "codemirror_mode": {
    "name": "ipython",
    "version": 3
   },
   "file_extension": ".py",
   "mimetype": "text/x-python",
   "name": "python",
   "nbconvert_exporter": "python",
   "pygments_lexer": "ipython3",
   "version": "3.7.3"
  }
 },
 "nbformat": 4,
 "nbformat_minor": 2
}
