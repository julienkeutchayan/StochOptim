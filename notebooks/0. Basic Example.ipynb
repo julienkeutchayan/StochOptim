{
 "cells": [
  {
   "cell_type": "markdown",
   "metadata": {},
   "source": [
    "\\begin{eqnarray}\n",
    "& \\max_{x_t} & \\mathbb{E}[c_t^\\top x_t] \\\\\n",
    "& s.t. & A_0 x_0 \\leq d_0 \\\\\n",
    "& & A_t x_t + B_t x_{t-1} \\leq d_t, \\quad t=1,\\dots,T, \\quad \\text{with} \\quad d_t \\sim \\text{Unif}(1, 10), \\quad d_1,\\dots,d_T \\ \\text{i.i.d.} \\\\\n",
    "& & x_t \\geq 0, \\quad t=0,\\dots,T\n",
    "\\end{eqnarray}"
   ]
  },
  {
   "cell_type": "code",
   "execution_count": 2,
   "metadata": {},
   "outputs": [],
   "source": [
    "from stochoptim.stochprob.stochastic_problem_basis import StochasticProblemBasis\n",
    "\n",
    "class MyMultistageStochasticProblem(StochasticProblemBasis):\n",
    "    \n",
    "    def __init__(self, T, A, B, c, d0):\n",
    "        \n",
    "        self.T = T         # last stage\n",
    "        self.A = A         # A = {t: A[t] for t=0,...,T} where A[t] is a 2d-array\n",
    "        self.B = B         # B = {t: B[t] for t=1,...,T} where B[t] is a 2d-array\n",
    "        self.c = c         # c = {t: c[t] for t=0,...,T} where c[t] is a 1d-array\n",
    "        self.d0 = d0       # 1d-array\n",
    "        self.n = {t: A[t].shape[1] for t in range(self.T + 1)} # number of variables per stage\n",
    "        self.m = {t: A[t].shape[0] for t in range(self.T + 1)} # number of constraints per stage\n",
    "      \n",
    "        StochasticProblemBasis.__init__(self, \n",
    "                                        name='Simple Example of Multistage Problem',\n",
    "                                        n_stages=self.T + 1,        # number of stages \n",
    "                                        objective_sense='max',      # whether the problem is a maximization or minimization\n",
    "                                        is_obj_random=False,        # whether the objective function contains random parameters\n",
    "                                        is_mip=False)               # whether the problem includes discrete variables\n",
    "\n",
    "    def decision_variables_definition(self, t):\n",
    "        yield 'x', range(self.n[t]), 0, None, 'C'\n",
    "        \n",
    "    def random_variables_definition(self, t):\n",
    "        if t >= 1:\n",
    "            yield 'd', range(self.m[t])\n",
    "    \n",
    "    def objective(self):\n",
    "        return self.sum([self.dot(self.c[t], self.get_dvar(t, 'x')) \n",
    "                         for t in range(self.T + 1)])                           # c[t].x[t] summed over t\n",
    "    \n",
    "    def deterministic_linear_constraints(self, t):\n",
    "        if t == 0:\n",
    "            yield iter(self.dot(self.A[t][i], self.get_dvar(t, 'x')) \\\n",
    "                       <= self.d0[i] for i in range(self.m[t]))                 # A[0].x[0] <= d[0]\n",
    "    \n",
    "    def random_linear_constraints(self, t):\n",
    "        if t >= 1:\n",
    "            yield iter(self.dot(self.A[t][i], self.get_dvar(t, 'x')) \\\n",
    "                       + self.dot(self.B[t][i], self.get_dvar(t-1, 'x')) \\\n",
    "                       <= self.get_rvar(t, 'd')[i] for i in range(self.m[t]))    # A[t].x[t] + B[t].x[t-1] <= d[t]"
   ]
  },
  {
   "cell_type": "code",
   "execution_count": 3,
   "metadata": {},
   "outputs": [],
   "source": [
    "import numpy as np\n",
    "np.random.seed(45)\n",
    "n = 2\n",
    "m = 3\n",
    "T = 2\n",
    "A = {0: np.random.randint(1, 10, size=(m, n)),\n",
    "     1: np.random.randint(1, 10, size=(m, n)),\n",
    "     2: np.random.randint(1, 10, size=(m, n))}\n",
    "B = {1: np.random.randint(1, 10, size=(m, n)),\n",
    "     2: np.random.randint(1, 10, size=(m, n))}\n",
    "c = {0: np.random.randint(-5, 5, size=(n,)),\n",
    "     1: np.random.randint(-5, 5, size=(n,)),\n",
    "     2: np.random.randint(-5, 5, size=(n,))}\n",
    "d0 = np.random.randint(1, 10, size=(m,))\n",
    "\n",
    "my_stochastic_problem = MyMultistageStochasticProblem(T, A, B, c, d0)"
   ]
  },
  {
   "cell_type": "code",
   "execution_count": 4,
   "metadata": {},
   "outputs": [
    {
     "name": "stdout",
     "output_type": "stream",
     "text": [
      "A = {0: array([[4, 1],\n",
      "       [6, 4],\n",
      "       [5, 9]]), 1: array([[2, 6],\n",
      "       [7, 9],\n",
      "       [8, 9]]), 2: array([[6, 3],\n",
      "       [9, 2],\n",
      "       [7, 5]])}\n",
      "B = {1: array([[9, 5],\n",
      "       [7, 5],\n",
      "       [2, 7]]), 2: array([[9, 9],\n",
      "       [2, 7],\n",
      "       [1, 5]])}\n",
      "c = {0: array([4, 3]), 1: array([-5,  4]), 2: array([-3,  1])}\n",
      "d0 = [8 1 1]\n"
     ]
    }
   ],
   "source": [
    "print(\"A =\", A)\n",
    "print(\"B =\", B)\n",
    "print(\"c =\", c)\n",
    "print(\"d0 =\", d0)"
   ]
  },
  {
   "cell_type": "code",
   "execution_count": 5,
   "metadata": {},
   "outputs": [],
   "source": [
    "from stochoptim.scengen.scenario_tree import ScenarioTree\n",
    "from stochoptim.scengen.scenario_process import ScenarioProcess\n",
    "\n",
    "def scenario_fct(stage, epsilon, scenario_path):\n",
    "    if stage >= 1:\n",
    "        return {'d': np.random.randint(1, 10, size=(m,))}\n",
    "      \n",
    "scenario_process = ScenarioProcess(scenario_fct, None)\n",
    "my_scenario_tree = ScenarioTree.from_bushiness([2,2])      # two branches at each stage\n",
    "my_scenario_tree.fill(scenario_process)"
   ]
  },
  {
   "cell_type": "code",
   "execution_count": 6,
   "metadata": {},
   "outputs": [
    {
     "name": "stdout",
     "output_type": "stream",
     "text": [
      "Number of scenario trees: 1 (bushiness: [2.0, 2.0]) \n",
      "\n",
      "Initialize model... Finished. (0.097 sec).\n",
      "Initialize variables... Finished. (0.001 sec).\n",
      "Add deterministic constraints at subroot #1... Finished. (0.002 sec).\n",
      "Define objective function at subtree #1... Finished. (0.001 sec).\n",
      "\n",
      "Solve scenario tree #1... \n",
      "  Precompute variables and parameters... Finished. (0.000 sec).\n",
      "  Check parameters validity... Finished. (0.001 sec).\n",
      "  Add random constraints at subtree #1... Finished. (0.002 sec).\n",
      "  Solve problem at subtree #1... Finished. (0.018 sec).\n",
      "  Fill scenario tree... Finished. (0.001 sec).\n",
      "Finished. (0.024 sec).\n"
     ]
    },
    {
     "data": {
      "text/plain": [
       "obj=1.479, gap=nan%, time=0.0 sec"
      ]
     },
     "execution_count": 6,
     "metadata": {},
     "output_type": "execute_result"
    }
   ],
   "source": [
    "solution = my_stochastic_problem.solve(my_scenario_tree)\n",
    "solution"
   ]
  },
  {
   "cell_type": "code",
   "execution_count": 8,
   "metadata": {},
   "outputs": [
    {
     "data": {
      "text/plain": [
       "<matplotlib.axes._subplots.AxesSubplot at 0x1550f17f7b8>"
      ]
     },
     "execution_count": 8,
     "metadata": {},
     "output_type": "execute_result"
    },
    {
     "data": {
      "image/png": "[encoded data removed]",
      "text/plain": [
       "<Figure size 1080x360 with 5 Axes>"
      ]
     },
     "metadata": {
      "needs_background": "light"
     },
     "output_type": "display_data"
    }
   ],
   "source": [
    "import matplotlib.pyplot as plt\n",
    "fig, axes = plt.subplots(ncols=5, figsize=(15, 5))\n",
    "solution.scenario_tree.plot_scenarios('d', ax=axes[0])\n",
    "axes[1].axis('off')\n",
    "solution.scenario_tree.plot(lambda node: np.round(node.data['decision'].get('x'), 3), ax=axes[2])\n",
    "axes[3].axis('off')\n",
    "solution.scenario_tree.plot(lambda node: np.round(node.data['v'], 3), ax=axes[4])"
   ]
  }
 ],
 "metadata": {
  "kernelspec": {
   "display_name": "Python 3",
   "language": "python",
   "name": "python3"
  },
  "language_info": {
   "codemirror_mode": {
    "name": "ipython",
    "version": 3
   },
   "file_extension": ".py",
   "mimetype": "text/x-python",
   "name": "python",
   "nbconvert_exporter": "python",
   "pygments_lexer": "ipython3",
   "version": "3.7.3"
  }
 },
 "nbformat": 4,
 "nbformat_minor": 2
}
